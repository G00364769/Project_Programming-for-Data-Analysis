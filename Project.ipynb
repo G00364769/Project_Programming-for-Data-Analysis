{
 "cells": [
  {
   "cell_type": "markdown",
   "metadata": {},
   "source": [
    "### Hello"
   ]
  },
  {
   "cell_type": "code",
   "execution_count": 37,
   "metadata": {},
   "outputs": [
    {
     "data": {
      "text/plain": [
       "'2003'"
      ]
     },
     "execution_count": 37,
     "metadata": {},
     "output_type": "execute_result"
    }
   ],
   "source": [
    "from faker import Faker\n",
    "import random\n",
    "import numpy as np\n",
    "import pandas as pd\n",
    "fake = Faker()\n",
    "fake.random.getstate()\n",
    "fake.address()\n",
    "fake.country()\n",
    "fake.job()\n",
    "fake.name()\n",
    "fake.year()\n",
    "#for i in range(10):\n",
    "  #j=[fake.name()]\n",
    "  #(j)\n",
    "  #print(fake.address())\n",
    " # print(fake.country())\n",
    "  #print(fake.job())\n",
    "  #print(fake.random.getstate())\n",
    "  #tt= pd.DataFrame(i)\n",
    "#t=fake.date_time_between_dates(datetime_start=None, datetime_end=None)\n",
    "#t"
   ]
  },
  {
   "cell_type": "code",
   "execution_count": 38,
   "metadata": {},
   "outputs": [
    {
     "data": {
      "text/plain": [
       "['1997',\n",
       " '1984',\n",
       " '1994',\n",
       " '1987',\n",
       " '2009',\n",
       " '2015',\n",
       " '1977',\n",
       " '1999',\n",
       " '1972',\n",
       " '2011']"
      ]
     },
     "execution_count": 38,
     "metadata": {},
     "output_type": "execute_result"
    }
   ],
   "source": [
    "df=[fake.name()for i in range (10)]\n",
    "df1=[fake.country()for i in range (10)]\n",
    "df2=[fake.year()for i in range (10)]\n",
    "df3=[fake.job()for i in range (10)]\n",
    "#tt= pd.DataFrame(np.random.randn(len(NAME)),index=NAME,columns=[\"FULLNAME\"])\n",
    "#tt= pd.DataFrame([j])\n",
    "#tt= pd.DataFrame(df,df1,columns=[\"FULLNAME\",\"FULLNAME1\"])\n",
    "\n",
    "\n",
    "#print(type(df))\n",
    "df2"
   ]
  },
  {
   "cell_type": "code",
   "execution_count": null,
   "metadata": {},
   "outputs": [],
   "source": []
  },
  {
   "cell_type": "code",
   "execution_count": 24,
   "metadata": {},
   "outputs": [],
   "source": [
    "tt= pd.DataFrame({\"job\":df3,\"Year\":df2,\"NAMES\":df,\"COUNTRY\":df1})"
   ]
  },
  {
   "cell_type": "code",
   "execution_count": 25,
   "metadata": {},
   "outputs": [
    {
     "data": {
      "text/html": [
       "<div>\n",
       "<style scoped>\n",
       "    .dataframe tbody tr th:only-of-type {\n",
       "        vertical-align: middle;\n",
       "    }\n",
       "\n",
       "    .dataframe tbody tr th {\n",
       "        vertical-align: top;\n",
       "    }\n",
       "\n",
       "    .dataframe thead th {\n",
       "        text-align: right;\n",
       "    }\n",
       "</style>\n",
       "<table border=\"1\" class=\"dataframe\">\n",
       "  <thead>\n",
       "    <tr style=\"text-align: right;\">\n",
       "      <th></th>\n",
       "      <th>COUNTRY</th>\n",
       "      <th>NAMES</th>\n",
       "      <th>Year</th>\n",
       "      <th>job</th>\n",
       "    </tr>\n",
       "  </thead>\n",
       "  <tbody>\n",
       "    <tr>\n",
       "      <th>0</th>\n",
       "      <td>Micronesia</td>\n",
       "      <td>Sergio Taylor</td>\n",
       "      <td>1991</td>\n",
       "      <td>Energy engineer</td>\n",
       "    </tr>\n",
       "    <tr>\n",
       "      <th>1</th>\n",
       "      <td>India</td>\n",
       "      <td>Victor Lopez</td>\n",
       "      <td>1998</td>\n",
       "      <td>Facilities manager</td>\n",
       "    </tr>\n",
       "    <tr>\n",
       "      <th>2</th>\n",
       "      <td>Bolivia</td>\n",
       "      <td>Tiffany Giles</td>\n",
       "      <td>1973</td>\n",
       "      <td>Comptroller</td>\n",
       "    </tr>\n",
       "    <tr>\n",
       "      <th>3</th>\n",
       "      <td>Guam</td>\n",
       "      <td>Diana Goodwin</td>\n",
       "      <td>2003</td>\n",
       "      <td>Conservation officer, historic buildings</td>\n",
       "    </tr>\n",
       "    <tr>\n",
       "      <th>4</th>\n",
       "      <td>Turkey</td>\n",
       "      <td>Amber Potts</td>\n",
       "      <td>2014</td>\n",
       "      <td>Warden/ranger</td>\n",
       "    </tr>\n",
       "    <tr>\n",
       "      <th>5</th>\n",
       "      <td>Faroe Islands</td>\n",
       "      <td>Alexa Yang</td>\n",
       "      <td>1991</td>\n",
       "      <td>Interpreter</td>\n",
       "    </tr>\n",
       "    <tr>\n",
       "      <th>6</th>\n",
       "      <td>Panama</td>\n",
       "      <td>Joshua Hopkins</td>\n",
       "      <td>1970</td>\n",
       "      <td>Surveyor, building control</td>\n",
       "    </tr>\n",
       "    <tr>\n",
       "      <th>7</th>\n",
       "      <td>Guyana</td>\n",
       "      <td>Bryan Black</td>\n",
       "      <td>1997</td>\n",
       "      <td>Art gallery manager</td>\n",
       "    </tr>\n",
       "    <tr>\n",
       "      <th>8</th>\n",
       "      <td>Barbados</td>\n",
       "      <td>Stephen Smith Jr.</td>\n",
       "      <td>2007</td>\n",
       "      <td>Scientist, research (life sciences)</td>\n",
       "    </tr>\n",
       "    <tr>\n",
       "      <th>9</th>\n",
       "      <td>Thailand</td>\n",
       "      <td>Colleen Hays</td>\n",
       "      <td>1998</td>\n",
       "      <td>Customer service manager</td>\n",
       "    </tr>\n",
       "  </tbody>\n",
       "</table>\n",
       "</div>"
      ],
      "text/plain": [
       "         COUNTRY              NAMES  Year  \\\n",
       "0     Micronesia      Sergio Taylor  1991   \n",
       "1          India       Victor Lopez  1998   \n",
       "2        Bolivia      Tiffany Giles  1973   \n",
       "3           Guam      Diana Goodwin  2003   \n",
       "4         Turkey        Amber Potts  2014   \n",
       "5  Faroe Islands         Alexa Yang  1991   \n",
       "6         Panama     Joshua Hopkins  1970   \n",
       "7         Guyana        Bryan Black  1997   \n",
       "8       Barbados  Stephen Smith Jr.  2007   \n",
       "9       Thailand       Colleen Hays  1998   \n",
       "\n",
       "                                        job  \n",
       "0                           Energy engineer  \n",
       "1                        Facilities manager  \n",
       "2                               Comptroller  \n",
       "3  Conservation officer, historic buildings  \n",
       "4                             Warden/ranger  \n",
       "5                               Interpreter  \n",
       "6                Surveyor, building control  \n",
       "7                       Art gallery manager  \n",
       "8       Scientist, research (life sciences)  \n",
       "9                  Customer service manager  "
      ]
     },
     "execution_count": 25,
     "metadata": {},
     "output_type": "execute_result"
    }
   ],
   "source": [
    "tt"
   ]
  },
  {
   "cell_type": "code",
   "execution_count": 26,
   "metadata": {},
   "outputs": [],
   "source": [
    "ss=tt.sample(3)"
   ]
  },
  {
   "cell_type": "code",
   "execution_count": 27,
   "metadata": {},
   "outputs": [
    {
     "data": {
      "text/html": [
       "<div>\n",
       "<style scoped>\n",
       "    .dataframe tbody tr th:only-of-type {\n",
       "        vertical-align: middle;\n",
       "    }\n",
       "\n",
       "    .dataframe tbody tr th {\n",
       "        vertical-align: top;\n",
       "    }\n",
       "\n",
       "    .dataframe thead th {\n",
       "        text-align: right;\n",
       "    }\n",
       "</style>\n",
       "<table border=\"1\" class=\"dataframe\">\n",
       "  <thead>\n",
       "    <tr style=\"text-align: right;\">\n",
       "      <th></th>\n",
       "      <th>COUNTRY</th>\n",
       "      <th>NAMES</th>\n",
       "      <th>Year</th>\n",
       "      <th>job</th>\n",
       "    </tr>\n",
       "  </thead>\n",
       "  <tbody>\n",
       "    <tr>\n",
       "      <th>7</th>\n",
       "      <td>Guyana</td>\n",
       "      <td>Bryan Black</td>\n",
       "      <td>1997</td>\n",
       "      <td>Art gallery manager</td>\n",
       "    </tr>\n",
       "    <tr>\n",
       "      <th>9</th>\n",
       "      <td>Thailand</td>\n",
       "      <td>Colleen Hays</td>\n",
       "      <td>1998</td>\n",
       "      <td>Customer service manager</td>\n",
       "    </tr>\n",
       "    <tr>\n",
       "      <th>6</th>\n",
       "      <td>Panama</td>\n",
       "      <td>Joshua Hopkins</td>\n",
       "      <td>1970</td>\n",
       "      <td>Surveyor, building control</td>\n",
       "    </tr>\n",
       "  </tbody>\n",
       "</table>\n",
       "</div>"
      ],
      "text/plain": [
       "    COUNTRY           NAMES  Year                         job\n",
       "7    Guyana     Bryan Black  1997         Art gallery manager\n",
       "9  Thailand    Colleen Hays  1998    Customer service manager\n",
       "6    Panama  Joshua Hopkins  1970  Surveyor, building control"
      ]
     },
     "execution_count": 27,
     "metadata": {},
     "output_type": "execute_result"
    }
   ],
   "source": [
    "ss"
   ]
  },
  {
   "cell_type": "code",
   "execution_count": null,
   "metadata": {},
   "outputs": [],
   "source": []
  },
  {
   "cell_type": "code",
   "execution_count": null,
   "metadata": {},
   "outputs": [],
   "source": []
  }
 ],
 "metadata": {
  "kernelspec": {
   "display_name": "Python 3",
   "language": "python",
   "name": "python3"
  },
  "language_info": {
   "codemirror_mode": {
    "name": "ipython",
    "version": 3
   },
   "file_extension": ".py",
   "mimetype": "text/x-python",
   "name": "python",
   "nbconvert_exporter": "python",
   "pygments_lexer": "ipython3",
   "version": "3.6.4"
  }
 },
 "nbformat": 4,
 "nbformat_minor": 2
}
