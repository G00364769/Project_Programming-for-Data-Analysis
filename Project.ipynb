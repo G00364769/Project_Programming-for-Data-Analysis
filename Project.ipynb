{
 "cells": [
  {
   "cell_type": "markdown",
   "metadata": {},
   "source": [
    "### Project 2018"
   ]
  },
  {
   "cell_type": "markdown",
   "metadata": {},
   "source": [
    "### 1. Choose a real-world phenomenon that can be measured and for which you could collect at least one-hundred data points across at least four different variables."
   ]
  },
  {
   "cell_type": "markdown",
   "metadata": {},
   "source": [
    "    In 300 job record will check what are the jobtype, daily income, gender and age people are working in year 2016 to 2018. \n",
    "    \n",
    "    Below are the four variable will use to generate the data set\n",
    "    ***Year*** ,***Job*** ,***Age***, ***Gender***,***DailyIncome***\n",
    "\n",
    "    - .Year = 2016 to 2018\n",
    "    - .Job Type = Doctors, IT Engineer,DataScientist,Research,Administrator\n",
    "    - .Age = 18 to 51\n",
    "\n",
    "    Using some logic i am calculating DailyIncome (in ireland people work min 6 to 12 hours and Labour charges are min 10 to 20 euro )\n",
    "\n",
    "    - .DailyIncome = No of hours people work * Labour cost\n",
    "    - .Gender (Male or Female)\n"
   ]
  },
  {
   "cell_type": "markdown",
   "metadata": {},
   "source": [
    "### 2 Investigate the types of variables involved, their likely distributions, and their relationships with each other"
   ]
  },
  {
   "cell_type": "markdown",
   "metadata": {},
   "source": [
    "***2a.Types of variables involved***\n",
    "\n",
    "Types of varibale \n",
    "\n",
    "    First variable is Year and type is continuous variables\n",
    "    Second variable is Job Type and type is Categorical variable\n",
    "    Third Variable is Age and type is quantitative variable\n",
    "    Fourth variable is DailyIncome and type is continuous variables\n",
    "    Fifth variable is Gender and type is Nominal variable\n",
    "\n",
    "***2b.Type of Distribution***\n",
    "\n",
    "    While generating random data will use Simple random data (np.random.choice and np.random.randint )\n",
    "    Where np.random.choice will generate a uniform random sample.And np.random.randint is discrete uniform.distribution \n",
    "\n",
    "\n",
    "***2c.Relationships with each other***\n",
    "   \n",
    "    (Year ,Job ,Age, Gender,DailyIncome)Variable using for my data set. \n",
    "  - Relationships between Age VS DailyIncome\n",
    "  \n",
    "        In real word scenario, job type DailyIncome will depend based on age because the person is have more experience he should be earning more.\n",
    "    \n",
    "   - Relationships between Age VS JobType\n",
    "   \n",
    "          In real word scenario, Between 18 to 30 age people will be doing jobType(Administrator) job because at this stage person might be doing study so thay are working as part time because getting job as Doctor IT Engineer,DataScientist and Research it required level 8 degree, by the time person will get degree his\\ her age will be more than 30.\n",
    "          \n",
    "    - Relationships between Age VS Gender  \n",
    "    \n",
    "          It might be funny as The average age Irish women are having their first baby is 32.5 years so i can say between 30 to 35 Female might be working less \n",
    "    "
   ]
  },
  {
   "cell_type": "markdown",
   "metadata": {},
   "source": [
    "### 3. Synthesise/simulate a data set as closely matching their properties as possible\n",
    "\n",
    "#### 3a..Generating below all variable randomally for my data set"
   ]
  },
  {
   "cell_type": "code",
   "execution_count": 67,
   "metadata": {},
   "outputs": [],
   "source": [
    "#  modules we need:\n",
    "import pandas as pd\n",
    "import numpy as np\n",
    "import matplotlib.pyplot as plt\n",
    "import scipy.stats as stats\n",
    "from scipy.stats import norm\n",
    "%matplotlib inline\n",
    "#Number of person as N\n",
    "N=300\n",
    "#same set of numbers will appear every time\n",
    "np.random.seed(1234)\n",
    "\n",
    "# Creating first variable (Year)\n",
    "# from 2016 to 2018  generate \n",
    "Year=['2016', '2017','2018']\n",
    "#Generate a uniform random sample from np.arange(Year) of size N\n",
    "Year = np.random.choice(Year,N)\n",
    "#Year\n",
    "\n",
    "# Creating Second variable \n",
    "# creating a number of  jobtypes (Doctors', 'IT Engineer','DataScientist','Research','Administrator)\n",
    "#same set of numbers will appear every time\n",
    "np.random.seed(1234)\n",
    "Jobtypes=['Doctors', 'IT Engineer','DataScientist','Research','Administrator']\n",
    "Job=np.random.choice(Jobtypes,N) # size is 300\n",
    "#Job\n",
    "\n",
    "# Creating Third variable (Age from 18 to 51)\n",
    "#same set of numbers will appear every time\n",
    "np.random.seed(43)\n",
    "Age= np.random.randint(18,51,N)#min age 18 max age 50  and size is 100\n",
    "#Age\n",
    "\n",
    "# Creating Fourth variable (Gender male or female)\n",
    "#same set of numbers will appear every time\n",
    "np.random.seed(143)\n",
    "#Generate a uniform random sample from Gender of size N with replacement:\n",
    "Gender = ['Male', 'Female']\n",
    "#Generates a random sample from a given 1-D array\n",
    "Gender = np.random.choice(Gender,N) # size is N\n",
    "\n",
    "# Creating Fifth variable (DailyIncome)\n",
    "#same set of numbers will appear every time\n",
    "np.random.seed(123)\n",
    "# Random hours person work in ireland 6 to 12 hours\n",
    "hours=np.random.randint(6,12,N)\n",
    "# Random money paid min 10 euro to 20 euro \n",
    "money=np.random.randint(10,20,N)\n",
    "DailyIncome=hours*money\n",
    "#DailyIncome\n"
   ]
  },
  {
   "cell_type": "markdown",
   "metadata": {},
   "source": [
    "     Adding  all five variable in data frame and generating the data set"
   ]
  },
  {
   "cell_type": "code",
   "execution_count": 68,
   "metadata": {},
   "outputs": [
    {
     "data": {
      "text/html": [
       "<div>\n",
       "<style scoped>\n",
       "    .dataframe tbody tr th:only-of-type {\n",
       "        vertical-align: middle;\n",
       "    }\n",
       "\n",
       "    .dataframe tbody tr th {\n",
       "        vertical-align: top;\n",
       "    }\n",
       "\n",
       "    .dataframe thead th {\n",
       "        text-align: right;\n",
       "    }\n",
       "</style>\n",
       "<table border=\"1\" class=\"dataframe\">\n",
       "  <thead>\n",
       "    <tr style=\"text-align: right;\">\n",
       "      <th></th>\n",
       "      <th>Age</th>\n",
       "      <th>DailyIncome</th>\n",
       "      <th>Gender</th>\n",
       "      <th>Job</th>\n",
       "      <th>Year</th>\n",
       "    </tr>\n",
       "  </thead>\n",
       "  <tbody>\n",
       "    <tr>\n",
       "      <th>0</th>\n",
       "      <td>22</td>\n",
       "      <td>121</td>\n",
       "      <td>Male</td>\n",
       "      <td>Research</td>\n",
       "      <td>2018</td>\n",
       "    </tr>\n",
       "    <tr>\n",
       "      <th>1</th>\n",
       "      <td>18</td>\n",
       "      <td>104</td>\n",
       "      <td>Female</td>\n",
       "      <td>Administrator</td>\n",
       "      <td>2017</td>\n",
       "    </tr>\n",
       "    <tr>\n",
       "      <th>2</th>\n",
       "      <td>39</td>\n",
       "      <td>170</td>\n",
       "      <td>Female</td>\n",
       "      <td>Administrator</td>\n",
       "      <td>2016</td>\n",
       "    </tr>\n",
       "    <tr>\n",
       "      <th>3</th>\n",
       "      <td>34</td>\n",
       "      <td>136</td>\n",
       "      <td>Female</td>\n",
       "      <td>Doctors</td>\n",
       "      <td>2016</td>\n",
       "    </tr>\n",
       "    <tr>\n",
       "      <th>4</th>\n",
       "      <td>35</td>\n",
       "      <td>119</td>\n",
       "      <td>Male</td>\n",
       "      <td>IT Engineer</td>\n",
       "      <td>2016</td>\n",
       "    </tr>\n",
       "    <tr>\n",
       "      <th>5</th>\n",
       "      <td>45</td>\n",
       "      <td>135</td>\n",
       "      <td>Male</td>\n",
       "      <td>IT Engineer</td>\n",
       "      <td>2017</td>\n",
       "    </tr>\n",
       "    <tr>\n",
       "      <th>6</th>\n",
       "      <td>20</td>\n",
       "      <td>104</td>\n",
       "      <td>Female</td>\n",
       "      <td>IT Engineer</td>\n",
       "      <td>2017</td>\n",
       "    </tr>\n",
       "    <tr>\n",
       "      <th>7</th>\n",
       "      <td>48</td>\n",
       "      <td>144</td>\n",
       "      <td>Male</td>\n",
       "      <td>DataScientist</td>\n",
       "      <td>2017</td>\n",
       "    </tr>\n",
       "    <tr>\n",
       "      <th>8</th>\n",
       "      <td>41</td>\n",
       "      <td>91</td>\n",
       "      <td>Male</td>\n",
       "      <td>Research</td>\n",
       "      <td>2018</td>\n",
       "    </tr>\n",
       "    <tr>\n",
       "      <th>9</th>\n",
       "      <td>18</td>\n",
       "      <td>105</td>\n",
       "      <td>Female</td>\n",
       "      <td>Administrator</td>\n",
       "      <td>2018</td>\n",
       "    </tr>\n",
       "    <tr>\n",
       "      <th>10</th>\n",
       "      <td>29</td>\n",
       "      <td>66</td>\n",
       "      <td>Male</td>\n",
       "      <td>Administrator</td>\n",
       "      <td>2018</td>\n",
       "    </tr>\n",
       "    <tr>\n",
       "      <th>11</th>\n",
       "      <td>43</td>\n",
       "      <td>105</td>\n",
       "      <td>Female</td>\n",
       "      <td>DataScientist</td>\n",
       "      <td>2016</td>\n",
       "    </tr>\n",
       "    <tr>\n",
       "      <th>12</th>\n",
       "      <td>19</td>\n",
       "      <td>133</td>\n",
       "      <td>Female</td>\n",
       "      <td>DataScientist</td>\n",
       "      <td>2016</td>\n",
       "    </tr>\n",
       "    <tr>\n",
       "      <th>13</th>\n",
       "      <td>29</td>\n",
       "      <td>66</td>\n",
       "      <td>Female</td>\n",
       "      <td>Doctors</td>\n",
       "      <td>2018</td>\n",
       "    </tr>\n",
       "    <tr>\n",
       "      <th>14</th>\n",
       "      <td>20</td>\n",
       "      <td>78</td>\n",
       "      <td>Male</td>\n",
       "      <td>Doctors</td>\n",
       "      <td>2018</td>\n",
       "    </tr>\n",
       "    <tr>\n",
       "      <th>15</th>\n",
       "      <td>22</td>\n",
       "      <td>133</td>\n",
       "      <td>Female</td>\n",
       "      <td>Administrator</td>\n",
       "      <td>2018</td>\n",
       "    </tr>\n",
       "    <tr>\n",
       "      <th>16</th>\n",
       "      <td>30</td>\n",
       "      <td>99</td>\n",
       "      <td>Female</td>\n",
       "      <td>Doctors</td>\n",
       "      <td>2016</td>\n",
       "    </tr>\n",
       "    <tr>\n",
       "      <th>17</th>\n",
       "      <td>42</td>\n",
       "      <td>165</td>\n",
       "      <td>Female</td>\n",
       "      <td>IT Engineer</td>\n",
       "      <td>2016</td>\n",
       "    </tr>\n",
       "    <tr>\n",
       "      <th>18</th>\n",
       "      <td>50</td>\n",
       "      <td>160</td>\n",
       "      <td>Female</td>\n",
       "      <td>DataScientist</td>\n",
       "      <td>2016</td>\n",
       "    </tr>\n",
       "    <tr>\n",
       "      <th>19</th>\n",
       "      <td>28</td>\n",
       "      <td>66</td>\n",
       "      <td>Male</td>\n",
       "      <td>Doctors</td>\n",
       "      <td>2017</td>\n",
       "    </tr>\n",
       "    <tr>\n",
       "      <th>20</th>\n",
       "      <td>27</td>\n",
       "      <td>90</td>\n",
       "      <td>Female</td>\n",
       "      <td>Research</td>\n",
       "      <td>2016</td>\n",
       "    </tr>\n",
       "    <tr>\n",
       "      <th>21</th>\n",
       "      <td>22</td>\n",
       "      <td>100</td>\n",
       "      <td>Female</td>\n",
       "      <td>Administrator</td>\n",
       "      <td>2017</td>\n",
       "    </tr>\n",
       "    <tr>\n",
       "      <th>22</th>\n",
       "      <td>46</td>\n",
       "      <td>119</td>\n",
       "      <td>Male</td>\n",
       "      <td>DataScientist</td>\n",
       "      <td>2018</td>\n",
       "    </tr>\n",
       "    <tr>\n",
       "      <th>23</th>\n",
       "      <td>27</td>\n",
       "      <td>90</td>\n",
       "      <td>Male</td>\n",
       "      <td>DataScientist</td>\n",
       "      <td>2018</td>\n",
       "    </tr>\n",
       "    <tr>\n",
       "      <th>24</th>\n",
       "      <td>25</td>\n",
       "      <td>104</td>\n",
       "      <td>Female</td>\n",
       "      <td>Research</td>\n",
       "      <td>2018</td>\n",
       "    </tr>\n",
       "    <tr>\n",
       "      <th>25</th>\n",
       "      <td>38</td>\n",
       "      <td>100</td>\n",
       "      <td>Female</td>\n",
       "      <td>Research</td>\n",
       "      <td>2016</td>\n",
       "    </tr>\n",
       "    <tr>\n",
       "      <th>26</th>\n",
       "      <td>50</td>\n",
       "      <td>128</td>\n",
       "      <td>Male</td>\n",
       "      <td>Doctors</td>\n",
       "      <td>2016</td>\n",
       "    </tr>\n",
       "    <tr>\n",
       "      <th>27</th>\n",
       "      <td>21</td>\n",
       "      <td>120</td>\n",
       "      <td>Male</td>\n",
       "      <td>IT Engineer</td>\n",
       "      <td>2017</td>\n",
       "    </tr>\n",
       "    <tr>\n",
       "      <th>28</th>\n",
       "      <td>43</td>\n",
       "      <td>102</td>\n",
       "      <td>Female</td>\n",
       "      <td>Research</td>\n",
       "      <td>2018</td>\n",
       "    </tr>\n",
       "    <tr>\n",
       "      <th>29</th>\n",
       "      <td>47</td>\n",
       "      <td>165</td>\n",
       "      <td>Female</td>\n",
       "      <td>Doctors</td>\n",
       "      <td>2018</td>\n",
       "    </tr>\n",
       "    <tr>\n",
       "      <th>...</th>\n",
       "      <td>...</td>\n",
       "      <td>...</td>\n",
       "      <td>...</td>\n",
       "      <td>...</td>\n",
       "      <td>...</td>\n",
       "    </tr>\n",
       "    <tr>\n",
       "      <th>270</th>\n",
       "      <td>50</td>\n",
       "      <td>176</td>\n",
       "      <td>Female</td>\n",
       "      <td>Research</td>\n",
       "      <td>2017</td>\n",
       "    </tr>\n",
       "    <tr>\n",
       "      <th>271</th>\n",
       "      <td>48</td>\n",
       "      <td>90</td>\n",
       "      <td>Female</td>\n",
       "      <td>DataScientist</td>\n",
       "      <td>2018</td>\n",
       "    </tr>\n",
       "    <tr>\n",
       "      <th>272</th>\n",
       "      <td>18</td>\n",
       "      <td>102</td>\n",
       "      <td>Male</td>\n",
       "      <td>Administrator</td>\n",
       "      <td>2017</td>\n",
       "    </tr>\n",
       "    <tr>\n",
       "      <th>273</th>\n",
       "      <td>35</td>\n",
       "      <td>78</td>\n",
       "      <td>Female</td>\n",
       "      <td>Administrator</td>\n",
       "      <td>2017</td>\n",
       "    </tr>\n",
       "    <tr>\n",
       "      <th>274</th>\n",
       "      <td>35</td>\n",
       "      <td>133</td>\n",
       "      <td>Male</td>\n",
       "      <td>DataScientist</td>\n",
       "      <td>2017</td>\n",
       "    </tr>\n",
       "    <tr>\n",
       "      <th>275</th>\n",
       "      <td>41</td>\n",
       "      <td>66</td>\n",
       "      <td>Female</td>\n",
       "      <td>Research</td>\n",
       "      <td>2017</td>\n",
       "    </tr>\n",
       "    <tr>\n",
       "      <th>276</th>\n",
       "      <td>43</td>\n",
       "      <td>130</td>\n",
       "      <td>Female</td>\n",
       "      <td>Administrator</td>\n",
       "      <td>2017</td>\n",
       "    </tr>\n",
       "    <tr>\n",
       "      <th>277</th>\n",
       "      <td>28</td>\n",
       "      <td>171</td>\n",
       "      <td>Male</td>\n",
       "      <td>DataScientist</td>\n",
       "      <td>2016</td>\n",
       "    </tr>\n",
       "    <tr>\n",
       "      <th>278</th>\n",
       "      <td>43</td>\n",
       "      <td>104</td>\n",
       "      <td>Female</td>\n",
       "      <td>Doctors</td>\n",
       "      <td>2016</td>\n",
       "    </tr>\n",
       "    <tr>\n",
       "      <th>279</th>\n",
       "      <td>22</td>\n",
       "      <td>198</td>\n",
       "      <td>Male</td>\n",
       "      <td>DataScientist</td>\n",
       "      <td>2016</td>\n",
       "    </tr>\n",
       "    <tr>\n",
       "      <th>280</th>\n",
       "      <td>26</td>\n",
       "      <td>130</td>\n",
       "      <td>Female</td>\n",
       "      <td>IT Engineer</td>\n",
       "      <td>2018</td>\n",
       "    </tr>\n",
       "    <tr>\n",
       "      <th>281</th>\n",
       "      <td>45</td>\n",
       "      <td>165</td>\n",
       "      <td>Male</td>\n",
       "      <td>IT Engineer</td>\n",
       "      <td>2017</td>\n",
       "    </tr>\n",
       "    <tr>\n",
       "      <th>282</th>\n",
       "      <td>31</td>\n",
       "      <td>96</td>\n",
       "      <td>Male</td>\n",
       "      <td>Doctors</td>\n",
       "      <td>2016</td>\n",
       "    </tr>\n",
       "    <tr>\n",
       "      <th>283</th>\n",
       "      <td>21</td>\n",
       "      <td>119</td>\n",
       "      <td>Male</td>\n",
       "      <td>Doctors</td>\n",
       "      <td>2017</td>\n",
       "    </tr>\n",
       "    <tr>\n",
       "      <th>284</th>\n",
       "      <td>35</td>\n",
       "      <td>128</td>\n",
       "      <td>Male</td>\n",
       "      <td>Doctors</td>\n",
       "      <td>2018</td>\n",
       "    </tr>\n",
       "    <tr>\n",
       "      <th>285</th>\n",
       "      <td>39</td>\n",
       "      <td>120</td>\n",
       "      <td>Female</td>\n",
       "      <td>IT Engineer</td>\n",
       "      <td>2018</td>\n",
       "    </tr>\n",
       "    <tr>\n",
       "      <th>286</th>\n",
       "      <td>44</td>\n",
       "      <td>136</td>\n",
       "      <td>Female</td>\n",
       "      <td>Administrator</td>\n",
       "      <td>2018</td>\n",
       "    </tr>\n",
       "    <tr>\n",
       "      <th>287</th>\n",
       "      <td>49</td>\n",
       "      <td>88</td>\n",
       "      <td>Male</td>\n",
       "      <td>DataScientist</td>\n",
       "      <td>2017</td>\n",
       "    </tr>\n",
       "    <tr>\n",
       "      <th>288</th>\n",
       "      <td>29</td>\n",
       "      <td>99</td>\n",
       "      <td>Male</td>\n",
       "      <td>IT Engineer</td>\n",
       "      <td>2017</td>\n",
       "    </tr>\n",
       "    <tr>\n",
       "      <th>289</th>\n",
       "      <td>26</td>\n",
       "      <td>128</td>\n",
       "      <td>Female</td>\n",
       "      <td>IT Engineer</td>\n",
       "      <td>2016</td>\n",
       "    </tr>\n",
       "    <tr>\n",
       "      <th>290</th>\n",
       "      <td>49</td>\n",
       "      <td>112</td>\n",
       "      <td>Female</td>\n",
       "      <td>Administrator</td>\n",
       "      <td>2016</td>\n",
       "    </tr>\n",
       "    <tr>\n",
       "      <th>291</th>\n",
       "      <td>20</td>\n",
       "      <td>84</td>\n",
       "      <td>Female</td>\n",
       "      <td>IT Engineer</td>\n",
       "      <td>2018</td>\n",
       "    </tr>\n",
       "    <tr>\n",
       "      <th>292</th>\n",
       "      <td>27</td>\n",
       "      <td>190</td>\n",
       "      <td>Female</td>\n",
       "      <td>IT Engineer</td>\n",
       "      <td>2017</td>\n",
       "    </tr>\n",
       "    <tr>\n",
       "      <th>293</th>\n",
       "      <td>19</td>\n",
       "      <td>70</td>\n",
       "      <td>Male</td>\n",
       "      <td>DataScientist</td>\n",
       "      <td>2018</td>\n",
       "    </tr>\n",
       "    <tr>\n",
       "      <th>294</th>\n",
       "      <td>46</td>\n",
       "      <td>209</td>\n",
       "      <td>Female</td>\n",
       "      <td>Administrator</td>\n",
       "      <td>2016</td>\n",
       "    </tr>\n",
       "    <tr>\n",
       "      <th>295</th>\n",
       "      <td>47</td>\n",
       "      <td>143</td>\n",
       "      <td>Male</td>\n",
       "      <td>Research</td>\n",
       "      <td>2016</td>\n",
       "    </tr>\n",
       "    <tr>\n",
       "      <th>296</th>\n",
       "      <td>41</td>\n",
       "      <td>126</td>\n",
       "      <td>Male</td>\n",
       "      <td>IT Engineer</td>\n",
       "      <td>2018</td>\n",
       "    </tr>\n",
       "    <tr>\n",
       "      <th>297</th>\n",
       "      <td>37</td>\n",
       "      <td>120</td>\n",
       "      <td>Male</td>\n",
       "      <td>Doctors</td>\n",
       "      <td>2018</td>\n",
       "    </tr>\n",
       "    <tr>\n",
       "      <th>298</th>\n",
       "      <td>22</td>\n",
       "      <td>78</td>\n",
       "      <td>Male</td>\n",
       "      <td>Research</td>\n",
       "      <td>2017</td>\n",
       "    </tr>\n",
       "    <tr>\n",
       "      <th>299</th>\n",
       "      <td>45</td>\n",
       "      <td>117</td>\n",
       "      <td>Male</td>\n",
       "      <td>DataScientist</td>\n",
       "      <td>2018</td>\n",
       "    </tr>\n",
       "  </tbody>\n",
       "</table>\n",
       "<p>300 rows × 5 columns</p>\n",
       "</div>"
      ],
      "text/plain": [
       "     Age  DailyIncome  Gender            Job  Year\n",
       "0     22          121    Male       Research  2018\n",
       "1     18          104  Female  Administrator  2017\n",
       "2     39          170  Female  Administrator  2016\n",
       "3     34          136  Female        Doctors  2016\n",
       "4     35          119    Male    IT Engineer  2016\n",
       "5     45          135    Male    IT Engineer  2017\n",
       "6     20          104  Female    IT Engineer  2017\n",
       "7     48          144    Male  DataScientist  2017\n",
       "8     41           91    Male       Research  2018\n",
       "9     18          105  Female  Administrator  2018\n",
       "10    29           66    Male  Administrator  2018\n",
       "11    43          105  Female  DataScientist  2016\n",
       "12    19          133  Female  DataScientist  2016\n",
       "13    29           66  Female        Doctors  2018\n",
       "14    20           78    Male        Doctors  2018\n",
       "15    22          133  Female  Administrator  2018\n",
       "16    30           99  Female        Doctors  2016\n",
       "17    42          165  Female    IT Engineer  2016\n",
       "18    50          160  Female  DataScientist  2016\n",
       "19    28           66    Male        Doctors  2017\n",
       "20    27           90  Female       Research  2016\n",
       "21    22          100  Female  Administrator  2017\n",
       "22    46          119    Male  DataScientist  2018\n",
       "23    27           90    Male  DataScientist  2018\n",
       "24    25          104  Female       Research  2018\n",
       "25    38          100  Female       Research  2016\n",
       "26    50          128    Male        Doctors  2016\n",
       "27    21          120    Male    IT Engineer  2017\n",
       "28    43          102  Female       Research  2018\n",
       "29    47          165  Female        Doctors  2018\n",
       "..   ...          ...     ...            ...   ...\n",
       "270   50          176  Female       Research  2017\n",
       "271   48           90  Female  DataScientist  2018\n",
       "272   18          102    Male  Administrator  2017\n",
       "273   35           78  Female  Administrator  2017\n",
       "274   35          133    Male  DataScientist  2017\n",
       "275   41           66  Female       Research  2017\n",
       "276   43          130  Female  Administrator  2017\n",
       "277   28          171    Male  DataScientist  2016\n",
       "278   43          104  Female        Doctors  2016\n",
       "279   22          198    Male  DataScientist  2016\n",
       "280   26          130  Female    IT Engineer  2018\n",
       "281   45          165    Male    IT Engineer  2017\n",
       "282   31           96    Male        Doctors  2016\n",
       "283   21          119    Male        Doctors  2017\n",
       "284   35          128    Male        Doctors  2018\n",
       "285   39          120  Female    IT Engineer  2018\n",
       "286   44          136  Female  Administrator  2018\n",
       "287   49           88    Male  DataScientist  2017\n",
       "288   29           99    Male    IT Engineer  2017\n",
       "289   26          128  Female    IT Engineer  2016\n",
       "290   49          112  Female  Administrator  2016\n",
       "291   20           84  Female    IT Engineer  2018\n",
       "292   27          190  Female    IT Engineer  2017\n",
       "293   19           70    Male  DataScientist  2018\n",
       "294   46          209  Female  Administrator  2016\n",
       "295   47          143    Male       Research  2016\n",
       "296   41          126    Male    IT Engineer  2018\n",
       "297   37          120    Male        Doctors  2018\n",
       "298   22           78    Male       Research  2017\n",
       "299   45          117    Male  DataScientist  2018\n",
       "\n",
       "[300 rows x 5 columns]"
      ]
     },
     "execution_count": 68,
     "metadata": {},
     "output_type": "execute_result"
    }
   ],
   "source": [
    "# using pandas lib to create data frame\n",
    "import pandas as pd\n",
    "Df= pd.DataFrame({\"Year\":Year,\"Job\":Job,\"Age\":Age,\"Gender\":Gender,\"DailyIncome\":DailyIncome})\n",
    "Df\n"
   ]
  },
  {
   "cell_type": "markdown",
   "metadata": {},
   "source": [
    "    Now  data frame is ready and it containt 5 coloum and 300 records Age,DailyIncome,Gender,Job,Year"
   ]
  },
  {
   "cell_type": "markdown",
   "metadata": {},
   "source": [
    "### 3b.Closely matching their properties, categorical variable by the color of plot elements:\n"
   ]
  },
  {
   "cell_type": "code",
   "execution_count": 69,
   "metadata": {},
   "outputs": [
    {
     "name": "stdout",
     "output_type": "stream",
     "text": [
      "Maxmum number of person are Male and Minium number of person are  Female\n",
      "\n",
      "\n"
     ]
    },
    {
     "data": {
      "image/png": "[encoded data removed]",
      "text/plain": [
       "<matplotlib.figure.Figure at 0x10079908>"
      ]
     },
     "metadata": {},
     "output_type": "display_data"
    },
    {
     "data": {
      "image/png": "[encoded data removed]",
      "text/plain": [
       "<matplotlib.figure.Figure at 0x10081358>"
      ]
     },
     "metadata": {},
     "output_type": "display_data"
    },
    {
     "data": {
      "image/png": "[encoded data removed]",
      "text/plain": [
       "<matplotlib.figure.Figure at 0x10079518>"
      ]
     },
     "metadata": {},
     "output_type": "display_data"
    },
    {
     "data": {
      "image/png": "[encoded data removed]",
      "text/plain": [
       "<matplotlib.figure.Figure at 0x118de518>"
      ]
     },
     "metadata": {},
     "output_type": "display_data"
    }
   ],
   "source": [
    "#Stacked bar plot with two-level group by\n",
    "#Just do a normal groupby() and call unstack():\n",
    "#Group series using mapper (dict or key function, apply given function to group, return result as series) or \n",
    "#by a series of columns.\n",
    "# Year VS Gender\n",
    "Df.groupby(['Year','Gender'])['Job'].size().unstack().plot(kind='bar',stacked=True)\n",
    "print(\"Maxmum number of person are\",Df.Gender.max(),\"and\",\"Minium number of person are \",Df.Gender.min())\n",
    "print (\"\\n\")\n",
    "\n",
    "# Year VS JOB\n",
    "Df.groupby(['Year','Job'])['Age'].size().unstack().plot(kind='bar',stacked=True)\n",
    "\n",
    "# Age VS JOB\n",
    "Df.groupby(['Age','Job'])['Gender'].size().unstack().plot(kind='bar',stacked=True)\n",
    "Df.groupby(['Age','Gender'])['Gender'].size().unstack().plot(kind='bar',stacked=True)\n",
    "plt.show()\n",
    "\n",
    "#Df.groupby(['Year','Job'])['Age'].size()\n",
    "#Df.groupby(['Year','Gender'])['Job'].size()"
   ]
  },
  {
   "cell_type": "markdown",
   "metadata": {},
   "source": [
    "***Gender VS Job ***\n",
    "\n",
    "     In relation to Gender graph 2016 to 2018 i can say male are geeting more job compare to female but if i compare all 3 years record i see every year female ratio is getting down. But for male 2017 it was high but 2018 it was less compare to 2016,\n",
    "\n",
    "***Year VS Age***\n",
    "\n",
    "\n",
    "     In job related people are getting more jobs in IT Fields and 2017 lots of job in IT field, as per three years records reserch youth is increasing from 2016 to 2018 and Administrator,Scientist job market was down \n",
    "    If i comparing for age in Age of 41 people have got lots of job.\n",
    "\n",
    "***Gender Vs Age***\n",
    "\n",
    "    The average age Irish women are having their first baby is 32.5 years  and in graph i can see at 33 age none of the women are working."
   ]
  },
  {
   "cell_type": "markdown",
   "metadata": {},
   "source": [
    "  - Will check how many are getting highets Paid. \n",
    "  \n",
    "  \n",
    "        Using query() function  will find who is highets Paid\n",
    "      Research and Doctors are highest paid. \n",
    " "
   ]
  },
  {
   "cell_type": "code",
   "execution_count": 70,
   "metadata": {},
   "outputs": [
    {
     "name": "stdout",
     "output_type": "stream",
     "text": [
      "Maxmum number highest paid is  209 Euro and Job type is  Research\n"
     ]
    },
    {
     "data": {
      "image/png": "[encoded data removed]",
      "text/plain": [
       "<matplotlib.figure.Figure at 0x100adf98>"
      ]
     },
     "metadata": {},
     "output_type": "display_data"
    }
   ],
   "source": [
    "# Highest paid job type\n",
    "MorePaid=Df.query('DailyIncome > 190')\n",
    "MorePaid\n",
    "MorePaid.groupby(['DailyIncome','Job'])['Age'].size().unstack().plot(kind='bar',stacked=True)\n",
    "print(\"Maxmum number highest paid is \",Df.DailyIncome.max(),\"Euro\",\"and Job type is \",Df.Job.max())"
   ]
  },
  {
   "cell_type": "markdown",
   "metadata": {},
   "source": [
    "***Using KNN I want to predic IN 2019 how will be job market***"
   ]
  },
  {
   "cell_type": "code",
   "execution_count": 71,
   "metadata": {},
   "outputs": [],
   "source": [
    "# Libraries\n",
    "import sklearn.neighbors as nei"
   ]
  },
  {
   "cell_type": "markdown",
   "metadata": {},
   "source": [
    "***Input and outputs***\n",
    "\n",
    "    will use two variable input as Year and out put as job "
   ]
  },
  {
   "cell_type": "code",
   "execution_count": 72,
   "metadata": {},
   "outputs": [],
   "source": [
    "Inputs=Df[['Year']]\n",
    "output=Df['Job']"
   ]
  },
  {
   "cell_type": "markdown",
   "metadata": {},
   "source": [
    "***Classifier***\n",
    "\n",
    "    its return the object for data structure,n_neighbors will do closed 3 dots to data point"
   ]
  },
  {
   "cell_type": "code",
   "execution_count": 73,
   "metadata": {},
   "outputs": [],
   "source": [
    "knn=nei.KNeighborsClassifier(n_neighbors=3)"
   ]
  },
  {
   "cell_type": "markdown",
   "metadata": {},
   "source": [
    "***Fit***\n",
    "\n",
    "it give the record the data model"
   ]
  },
  {
   "cell_type": "code",
   "execution_count": 74,
   "metadata": {},
   "outputs": [
    {
     "data": {
      "text/plain": [
       "KNeighborsClassifier(algorithm='auto', leaf_size=30, metric='minkowski',\n",
       "           metric_params=None, n_jobs=1, n_neighbors=3, p=2,\n",
       "           weights='uniform')"
      ]
     },
     "execution_count": 74,
     "metadata": {},
     "output_type": "execute_result"
    }
   ],
   "source": [
    "knn.fit(Inputs,output)"
   ]
  },
  {
   "cell_type": "markdown",
   "metadata": {},
   "source": [
    "***Predict***"
   ]
  },
  {
   "cell_type": "code",
   "execution_count": 75,
   "metadata": {},
   "outputs": [
    {
     "data": {
      "text/plain": [
       "Age                       43\n",
       "DailyIncome              105\n",
       "Gender                Female\n",
       "Job            DataScientist\n",
       "Year                    2016\n",
       "Name: 11, dtype: object"
      ]
     },
     "execution_count": 75,
     "metadata": {},
     "output_type": "execute_result"
    }
   ],
   "source": [
    "Df.loc[11]"
   ]
  },
  {
   "cell_type": "code",
   "execution_count": 76,
   "metadata": {},
   "outputs": [
    {
     "data": {
      "text/plain": [
       "array(['DataScientist'], dtype=object)"
      ]
     },
     "execution_count": 76,
     "metadata": {},
     "output_type": "execute_result"
    }
   ],
   "source": [
    "# i want to predict what kind of job will be more in 2019\n",
    "knn.predict([[2019]])"
   ]
  },
  {
   "cell_type": "markdown",
   "metadata": {},
   "source": [
    "**As per algorithm in 2019 Data Scientest job will be more.**"
   ]
  },
  {
   "cell_type": "markdown",
   "metadata": {},
   "source": [
    "### 4. Detail"
   ]
  },
  {
   "cell_type": "markdown",
   "metadata": {},
   "source": [
    "    While describing data set Gender and Job were not appering because its in string form.\n",
    "    Number each group from 0 to the number of groups - 1."
   ]
  },
  {
   "cell_type": "code",
   "execution_count": 77,
   "metadata": {},
   "outputs": [],
   "source": [
    "Df['Gender'] = Df.groupby('Gender').ngroup()\n",
    "Df['DailyIncome'] = Df.groupby('DailyIncome').ngroup()\n",
    "Df['Job'] = Df.groupby('Job').ngroup()\n",
    "Df['Year'] = Df.groupby('Year').ngroup()"
   ]
  },
  {
   "cell_type": "code",
   "execution_count": 78,
   "metadata": {},
   "outputs": [
    {
     "data": {
      "text/html": [
       "<div>\n",
       "<style scoped>\n",
       "    .dataframe tbody tr th:only-of-type {\n",
       "        vertical-align: middle;\n",
       "    }\n",
       "\n",
       "    .dataframe tbody tr th {\n",
       "        vertical-align: top;\n",
       "    }\n",
       "\n",
       "    .dataframe thead th {\n",
       "        text-align: right;\n",
       "    }\n",
       "</style>\n",
       "<table border=\"1\" class=\"dataframe\">\n",
       "  <thead>\n",
       "    <tr style=\"text-align: right;\">\n",
       "      <th></th>\n",
       "      <th>Age</th>\n",
       "      <th>DailyIncome</th>\n",
       "      <th>Gender</th>\n",
       "      <th>Job</th>\n",
       "      <th>Year</th>\n",
       "    </tr>\n",
       "  </thead>\n",
       "  <tbody>\n",
       "    <tr>\n",
       "      <th>count</th>\n",
       "      <td>300.000000</td>\n",
       "      <td>300.000000</td>\n",
       "      <td>300.000000</td>\n",
       "      <td>300.000000</td>\n",
       "      <td>300.000000</td>\n",
       "    </tr>\n",
       "    <tr>\n",
       "      <th>mean</th>\n",
       "      <td>34.650000</td>\n",
       "      <td>23.896667</td>\n",
       "      <td>0.560000</td>\n",
       "      <td>2.013333</td>\n",
       "      <td>0.963333</td>\n",
       "    </tr>\n",
       "    <tr>\n",
       "      <th>std</th>\n",
       "      <td>9.578447</td>\n",
       "      <td>13.927643</td>\n",
       "      <td>0.497216</td>\n",
       "      <td>1.390299</td>\n",
       "      <td>0.798403</td>\n",
       "    </tr>\n",
       "    <tr>\n",
       "      <th>min</th>\n",
       "      <td>18.000000</td>\n",
       "      <td>0.000000</td>\n",
       "      <td>0.000000</td>\n",
       "      <td>0.000000</td>\n",
       "      <td>0.000000</td>\n",
       "    </tr>\n",
       "    <tr>\n",
       "      <th>25%</th>\n",
       "      <td>26.000000</td>\n",
       "      <td>12.000000</td>\n",
       "      <td>0.000000</td>\n",
       "      <td>1.000000</td>\n",
       "      <td>0.000000</td>\n",
       "    </tr>\n",
       "    <tr>\n",
       "      <th>50%</th>\n",
       "      <td>35.000000</td>\n",
       "      <td>24.000000</td>\n",
       "      <td>1.000000</td>\n",
       "      <td>2.000000</td>\n",
       "      <td>1.000000</td>\n",
       "    </tr>\n",
       "    <tr>\n",
       "      <th>75%</th>\n",
       "      <td>43.000000</td>\n",
       "      <td>35.000000</td>\n",
       "      <td>1.000000</td>\n",
       "      <td>3.000000</td>\n",
       "      <td>2.000000</td>\n",
       "    </tr>\n",
       "    <tr>\n",
       "      <th>max</th>\n",
       "      <td>50.000000</td>\n",
       "      <td>50.000000</td>\n",
       "      <td>1.000000</td>\n",
       "      <td>4.000000</td>\n",
       "      <td>2.000000</td>\n",
       "    </tr>\n",
       "  </tbody>\n",
       "</table>\n",
       "</div>"
      ],
      "text/plain": [
       "              Age  DailyIncome      Gender         Job        Year\n",
       "count  300.000000   300.000000  300.000000  300.000000  300.000000\n",
       "mean    34.650000    23.896667    0.560000    2.013333    0.963333\n",
       "std      9.578447    13.927643    0.497216    1.390299    0.798403\n",
       "min     18.000000     0.000000    0.000000    0.000000    0.000000\n",
       "25%     26.000000    12.000000    0.000000    1.000000    0.000000\n",
       "50%     35.000000    24.000000    1.000000    2.000000    1.000000\n",
       "75%     43.000000    35.000000    1.000000    3.000000    2.000000\n",
       "max     50.000000    50.000000    1.000000    4.000000    2.000000"
      ]
     },
     "execution_count": 78,
     "metadata": {},
     "output_type": "execute_result"
    }
   ],
   "source": [
    "Df.describe()"
   ]
  },
  {
   "cell_type": "markdown",
   "metadata": {},
   "source": [
    "***Feature-Class Relationships***\n",
    "\n",
    "    Now  will generate matrix of histograms for each attribute and while taking Gender attribute I would see two records for each attribute (Male and female)\n"
   ]
  },
  {
   "cell_type": "code",
   "execution_count": 79,
   "metadata": {},
   "outputs": [
    {
     "data": {
      "text/plain": [
       "Gender\n",
       "0    [[AxesSubplot(0.125,0.551739;0.336957x0.328261...\n",
       "1    [[AxesSubplot(0.125,0.551739;0.336957x0.328261...\n",
       "dtype: object"
      ]
     },
     "execution_count": 79,
     "metadata": {},
     "output_type": "execute_result"
    },
    {
     "data": {
      "image/png": "[encoded data removed]",
      "text/plain": [
       "<matplotlib.figure.Figure at 0xfa50e80>"
      ]
     },
     "metadata": {},
     "output_type": "display_data"
    },
    {
     "data": {
      "image/png": "[encoded data removed]",
      "text/plain": [
       "<matplotlib.figure.Figure at 0x11dd5358>"
      ]
     },
     "metadata": {},
     "output_type": "display_data"
    }
   ],
   "source": [
    "Df.groupby('Gender').hist(alpha=0.4)"
   ]
  },
  {
   "cell_type": "markdown",
   "metadata": {},
   "source": [
    "    As  there are two records one for male and one for female,In above graph for male is y cordinate .\n",
    "    for first 4 records are Man VS Job Age year and DailyIncome count and second 4 records are Female VS Job Age year and DailyIncome count\n",
    "    \n",
    "    This is eassy way to represent in graph for each gender it shows class relation as per our dataset\n",
    "    \n",
    " ***Feature Relationships***\n",
    "\n",
    "    Now will show relationships between the attributes in graph by looking at the distribution of the interactions of each pair of attributes..\n",
    "    \n",
    "   "
   ]
  },
  {
   "cell_type": "code",
   "execution_count": 80,
   "metadata": {},
   "outputs": [
    {
     "data": {
      "text/plain": [
       "array([[<matplotlib.axes._subplots.AxesSubplot object at 0x0000000011F42DD8>,\n",
       "        <matplotlib.axes._subplots.AxesSubplot object at 0x0000000011C99D30>,\n",
       "        <matplotlib.axes._subplots.AxesSubplot object at 0x0000000011BB5828>,\n",
       "        <matplotlib.axes._subplots.AxesSubplot object at 0x0000000011B83898>,\n",
       "        <matplotlib.axes._subplots.AxesSubplot object at 0x0000000011BD85F8>],\n",
       "       [<matplotlib.axes._subplots.AxesSubplot object at 0x0000000011BD8668>,\n",
       "        <matplotlib.axes._subplots.AxesSubplot object at 0x0000000011958198>,\n",
       "        <matplotlib.axes._subplots.AxesSubplot object at 0x00000000119B4AC8>,\n",
       "        <matplotlib.axes._subplots.AxesSubplot object at 0x0000000011C132B0>,\n",
       "        <matplotlib.axes._subplots.AxesSubplot object at 0x000000001196E3C8>],\n",
       "       [<matplotlib.axes._subplots.AxesSubplot object at 0x0000000011BC5470>,\n",
       "        <matplotlib.axes._subplots.AxesSubplot object at 0x0000000011BBE940>,\n",
       "        <matplotlib.axes._subplots.AxesSubplot object at 0x0000000012038E80>,\n",
       "        <matplotlib.axes._subplots.AxesSubplot object at 0x000000000FDE5C88>,\n",
       "        <matplotlib.axes._subplots.AxesSubplot object at 0x0000000011B40EF0>],\n",
       "       [<matplotlib.axes._subplots.AxesSubplot object at 0x00000000119CC2B0>,\n",
       "        <matplotlib.axes._subplots.AxesSubplot object at 0x0000000011B271D0>,\n",
       "        <matplotlib.axes._subplots.AxesSubplot object at 0x000000001190E1D0>,\n",
       "        <matplotlib.axes._subplots.AxesSubplot object at 0x00000000119929B0>,\n",
       "        <matplotlib.axes._subplots.AxesSubplot object at 0x0000000011C5A9B0>],\n",
       "       [<matplotlib.axes._subplots.AxesSubplot object at 0x0000000011AECE80>,\n",
       "        <matplotlib.axes._subplots.AxesSubplot object at 0x0000000011A40400>,\n",
       "        <matplotlib.axes._subplots.AxesSubplot object at 0x0000000011AB7DA0>,\n",
       "        <matplotlib.axes._subplots.AxesSubplot object at 0x00000000118C19B0>,\n",
       "        <matplotlib.axes._subplots.AxesSubplot object at 0x0000000011885A20>]],\n",
       "      dtype=object)"
      ]
     },
     "execution_count": 80,
     "metadata": {},
     "output_type": "execute_result"
    },
    {
     "data": {
      "image/png": "[encoded data removed]",
      "text/plain": [
       "<matplotlib.figure.Figure at 0x11f23b38>"
      ]
     },
     "metadata": {},
     "output_type": "display_data"
    }
   ],
   "source": [
    "#Feature-Feature Relationships\n",
    "#create a matrix of scatter plots\n",
    "from pandas.plotting import scatter_matrix\n",
    "\n",
    "scatter_matrix(Df, alpha=0.2, figsize=(8, 8), diagonal='kde')"
   ]
  },
  {
   "cell_type": "markdown",
   "metadata": {},
   "source": [
    "    While looking graph, is there any relation as per below.\n",
    "\n",
    "    •Relationships between Age VS DailyIncome\n",
    "    ◾Relationships between Age VS JobType\n",
    "    \n",
    "    \n",
    "    In graph i dont see any relation because dataset is not a real word data set its generated randomally.but Relationships between Age VS Gender i dont see in scattor plot but when i am generating bar graph between age vs jobtype there i see in the age of 33 there is no women are working.\n",
    "\n"
   ]
  },
  {
   "cell_type": "markdown",
   "metadata": {},
   "source": [
    "### References\n",
    "\n",
    "- Random.seed\n",
    "\n",
    "https://stackoverflow.com/questions/22639587/random-seed-what-does-it-do\n",
    "\n",
    "- Random integers\n",
    "\n",
    "https://docs.scipy.org/doc/numpy-1.14.1/reference/generated/numpy.random.random_integers.html#numpy.random.random_integers\n",
    "\n",
    "https://docs.scipy.org/doc/numpy-1.15.1/reference/generated/numpy.random.randint.html\n",
    "\n",
    "- Mathematical statistics functions\n",
    "\n",
    "https://docs.python.org/3/library/statistics.html\n",
    "\n",
    "- Plot Normal distribution\n",
    "\n",
    "https://stackoverflow.com/questions/20011494/plot-normal-distribution-with-matplotlib\n",
    "\n",
    "http://queirozf.com/entries/pandas-dataframe-plot-examples-with-matplotlib-pyplot\n",
    "\n",
    "- Three-Dimensional Plotting\n",
    "\n",
    "https://jakevdp.github.io/PythonDataScienceHandbook/04.12-three-dimensional-plotting.html\n",
    "\n",
    "- Feature Distributions and Feature-Class Relationships\n",
    "\n",
    "https://machinelearningmastery.com/quick-and-dirty-data-analysis-with-pandas/\n",
    "\n",
    "https://pandas.pydata.org/pandas-docs/stable/generated/pandas.plotting.scatter_matrix.html"
   ]
  },
  {
   "cell_type": "markdown",
   "metadata": {},
   "source": [
    "***END***"
   ]
  }
 ],
 "metadata": {
  "kernelspec": {
   "display_name": "Python 3",
   "language": "python",
   "name": "python3"
  },
  "language_info": {
   "codemirror_mode": {
    "name": "ipython",
    "version": 3
   },
   "file_extension": ".py",
   "mimetype": "text/x-python",
   "name": "python",
   "nbconvert_exporter": "python",
   "pygments_lexer": "ipython3",
   "version": "3.6.4"
  }
 },
 "nbformat": 4,
 "nbformat_minor": 2
}
